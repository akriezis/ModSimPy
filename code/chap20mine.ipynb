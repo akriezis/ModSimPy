{
 "cells": [
  {
   "cell_type": "markdown",
   "metadata": {},
   "source": [
    "# Modeling and Simulation in Python\n",
    "\n",
    "Chapter 20\n",
    "\n",
    "Copyright 2017 Allen Downey\n",
    "\n",
    "License: [Creative Commons Attribution 4.0 International](https://creativecommons.org/licenses/by/4.0)\n"
   ]
  },
  {
   "cell_type": "code",
   "execution_count": 1,
   "metadata": {},
   "outputs": [],
   "source": [
    "# Configure Jupyter so figures appear in the notebook\n",
    "%matplotlib inline\n",
    "\n",
    "# Configure Jupyter to display the assigned value after an assignment\n",
    "%config InteractiveShell.ast_node_interactivity='last_expr_or_assign'\n",
    "\n",
    "# import functions from the modsim.py module\n",
    "from modsim import *"
   ]
  },
  {
   "cell_type": "markdown",
   "metadata": {},
   "source": [
    "### Dropping pennies\n",
    "\n",
    "I'll start by getting the units we need from Pint."
   ]
  },
  {
   "cell_type": "code",
   "execution_count": 2,
   "metadata": {},
   "outputs": [
    {
     "data": {
      "text/html": [
       "second"
      ],
      "text/latex": [
       "$second$"
      ],
      "text/plain": [
       "<Unit('second')>"
      ]
     },
     "execution_count": 2,
     "metadata": {},
     "output_type": "execute_result"
    }
   ],
   "source": [
    "m = UNITS.meter\n",
    "s = UNITS.second"
   ]
  },
  {
   "cell_type": "markdown",
   "metadata": {},
   "source": [
    "And defining the initial state."
   ]
  },
  {
   "cell_type": "code",
   "execution_count": 3,
   "metadata": {
    "scrolled": true
   },
   "outputs": [
    {
     "data": {
      "text/html": [
       "<div>\n",
       "<style scoped>\n",
       "    .dataframe tbody tr th:only-of-type {\n",
       "        vertical-align: middle;\n",
       "    }\n",
       "\n",
       "    .dataframe tbody tr th {\n",
       "        vertical-align: top;\n",
       "    }\n",
       "\n",
       "    .dataframe thead th {\n",
       "        text-align: right;\n",
       "    }\n",
       "</style>\n",
       "<table border=\"1\" class=\"dataframe\">\n",
       "  <thead>\n",
       "    <tr style=\"text-align: right;\">\n",
       "      <th></th>\n",
       "      <th>values</th>\n",
       "    </tr>\n",
       "  </thead>\n",
       "  <tbody>\n",
       "    <tr>\n",
       "      <th>y</th>\n",
       "      <td>381 meter</td>\n",
       "    </tr>\n",
       "    <tr>\n",
       "      <th>v</th>\n",
       "      <td>0.0 meter / second</td>\n",
       "    </tr>\n",
       "  </tbody>\n",
       "</table>\n",
       "</div>"
      ],
      "text/plain": [
       "y             381 meter\n",
       "v    0.0 meter / second\n",
       "dtype: object"
      ]
     },
     "execution_count": 3,
     "metadata": {},
     "output_type": "execute_result"
    }
   ],
   "source": [
    "init = State(y=381 * m, \n",
    "             v=0 * m/s)"
   ]
  },
  {
   "cell_type": "markdown",
   "metadata": {},
   "source": [
    "Acceleration due to gravity is about 9.8 m / s$^2$."
   ]
  },
  {
   "cell_type": "code",
   "execution_count": 4,
   "metadata": {},
   "outputs": [
    {
     "data": {
      "text/html": [
       "9.8 meter/second<sup>2</sup>"
      ],
      "text/latex": [
       "$9.8 \\frac{meter}{second^{2}}$"
      ],
      "text/plain": [
       "<Quantity(9.8, 'meter / second ** 2')>"
      ]
     },
     "execution_count": 4,
     "metadata": {},
     "output_type": "execute_result"
    }
   ],
   "source": [
    "g = 9.8 * m/s**2"
   ]
  },
  {
   "cell_type": "markdown",
   "metadata": {},
   "source": [
    "When we call `odeint`, we need an array of timestamps where we want to compute the solution.\n",
    "\n",
    "I'll start with a duration of 10 seconds."
   ]
  },
  {
   "cell_type": "code",
   "execution_count": 5,
   "metadata": {},
   "outputs": [
    {
     "data": {
      "text/html": [
       "10 second"
      ],
      "text/latex": [
       "$10 second$"
      ],
      "text/plain": [
       "<Quantity(10, 'second')>"
      ]
     },
     "execution_count": 5,
     "metadata": {},
     "output_type": "execute_result"
    }
   ],
   "source": [
    "t_end = 10 * s"
   ]
  },
  {
   "cell_type": "markdown",
   "metadata": {},
   "source": [
    "Now we make a `System` object."
   ]
  },
  {
   "cell_type": "code",
   "execution_count": 6,
   "metadata": {},
   "outputs": [
    {
     "data": {
      "text/html": [
       "<div>\n",
       "<style scoped>\n",
       "    .dataframe tbody tr th:only-of-type {\n",
       "        vertical-align: middle;\n",
       "    }\n",
       "\n",
       "    .dataframe tbody tr th {\n",
       "        vertical-align: top;\n",
       "    }\n",
       "\n",
       "    .dataframe thead th {\n",
       "        text-align: right;\n",
       "    }\n",
       "</style>\n",
       "<table border=\"1\" class=\"dataframe\">\n",
       "  <thead>\n",
       "    <tr style=\"text-align: right;\">\n",
       "      <th></th>\n",
       "      <th>values</th>\n",
       "    </tr>\n",
       "  </thead>\n",
       "  <tbody>\n",
       "    <tr>\n",
       "      <th>init</th>\n",
       "      <td>y             381 meter\n",
       "v    0.0 meter / secon...</td>\n",
       "    </tr>\n",
       "    <tr>\n",
       "      <th>g</th>\n",
       "      <td>9.8 meter / second ** 2</td>\n",
       "    </tr>\n",
       "    <tr>\n",
       "      <th>t_end</th>\n",
       "      <td>10 second</td>\n",
       "    </tr>\n",
       "  </tbody>\n",
       "</table>\n",
       "</div>"
      ],
      "text/plain": [
       "init     y             381 meter\n",
       "v    0.0 meter / secon...\n",
       "g                                  9.8 meter / second ** 2\n",
       "t_end                                            10 second\n",
       "dtype: object"
      ]
     },
     "execution_count": 6,
     "metadata": {},
     "output_type": "execute_result"
    }
   ],
   "source": [
    "system = System(init=init, g=g, t_end=t_end)"
   ]
  },
  {
   "cell_type": "markdown",
   "metadata": {},
   "source": [
    "And define the slope function."
   ]
  },
  {
   "cell_type": "code",
   "execution_count": 7,
   "metadata": {},
   "outputs": [],
   "source": [
    "def slope_func(state, t, system):\n",
    "    \"\"\"Compute derivatives of the state.\n",
    "    \n",
    "    state: position, velocity\n",
    "    t: time\n",
    "    system: System object containing `g`\n",
    "    \n",
    "    returns: derivatives of y and v\n",
    "    \"\"\"\n",
    "    y, v = state\n",
    "    unpack(system)    \n",
    "\n",
    "    dydt = v\n",
    "    dvdt = -g\n",
    "    \n",
    "    return dydt, dvdt"
   ]
  },
  {
   "cell_type": "markdown",
   "metadata": {},
   "source": [
    "It's always a good idea to test the slope function with the initial conditions."
   ]
  },
  {
   "cell_type": "code",
   "execution_count": 8,
   "metadata": {},
   "outputs": [
    {
     "name": "stdout",
     "output_type": "stream",
     "text": [
      "0.0 meter / second\n",
      "-9.8 meter / second ** 2\n"
     ]
    }
   ],
   "source": [
    "dydt, dvdt = slope_func(init, 0, system)\n",
    "print(dydt)\n",
    "print(dvdt)"
   ]
  },
  {
   "cell_type": "markdown",
   "metadata": {},
   "source": [
    "Now we're ready to call `run_ode_solver`"
   ]
  },
  {
   "cell_type": "code",
   "execution_count": 9,
   "metadata": {},
   "outputs": [
    {
     "data": {
      "text/plain": [
       "'The solver successfully reached the end of the integration interval.'"
      ]
     },
     "execution_count": 9,
     "metadata": {},
     "output_type": "execute_result"
    }
   ],
   "source": [
    "results, details = run_ode_solver(system, slope_func, max_step=0.5*s)\n",
    "details.message"
   ]
  },
  {
   "cell_type": "markdown",
   "metadata": {},
   "source": [
    "Here are the results:"
   ]
  },
  {
   "cell_type": "code",
   "execution_count": 10,
   "metadata": {},
   "outputs": [
    {
     "data": {
      "text/html": [
       "<div>\n",
       "<style scoped>\n",
       "    .dataframe tbody tr th:only-of-type {\n",
       "        vertical-align: middle;\n",
       "    }\n",
       "\n",
       "    .dataframe tbody tr th {\n",
       "        vertical-align: top;\n",
       "    }\n",
       "\n",
       "    .dataframe thead th {\n",
       "        text-align: right;\n",
       "    }\n",
       "</style>\n",
       "<table border=\"1\" class=\"dataframe\">\n",
       "  <thead>\n",
       "    <tr style=\"text-align: right;\">\n",
       "      <th></th>\n",
       "      <th>y</th>\n",
       "      <th>v</th>\n",
       "    </tr>\n",
       "  </thead>\n",
       "  <tbody>\n",
       "    <tr>\n",
       "      <th>0.000000</th>\n",
       "      <td>381.000000</td>\n",
       "      <td>0.000000</td>\n",
       "    </tr>\n",
       "    <tr>\n",
       "      <th>0.000102</th>\n",
       "      <td>381.000000</td>\n",
       "      <td>-0.001000</td>\n",
       "    </tr>\n",
       "    <tr>\n",
       "      <th>0.001122</th>\n",
       "      <td>380.999994</td>\n",
       "      <td>-0.011000</td>\n",
       "    </tr>\n",
       "    <tr>\n",
       "      <th>0.011327</th>\n",
       "      <td>380.999371</td>\n",
       "      <td>-0.111000</td>\n",
       "    </tr>\n",
       "    <tr>\n",
       "      <th>0.113367</th>\n",
       "      <td>380.937025</td>\n",
       "      <td>-1.110997</td>\n",
       "    </tr>\n",
       "    <tr>\n",
       "      <th>0.613367</th>\n",
       "      <td>379.156526</td>\n",
       "      <td>-6.010997</td>\n",
       "    </tr>\n",
       "    <tr>\n",
       "      <th>1.113367</th>\n",
       "      <td>374.926028</td>\n",
       "      <td>-10.910997</td>\n",
       "    </tr>\n",
       "    <tr>\n",
       "      <th>1.613367</th>\n",
       "      <td>368.245529</td>\n",
       "      <td>-15.810997</td>\n",
       "    </tr>\n",
       "    <tr>\n",
       "      <th>2.113367</th>\n",
       "      <td>359.115031</td>\n",
       "      <td>-20.710997</td>\n",
       "    </tr>\n",
       "    <tr>\n",
       "      <th>2.613367</th>\n",
       "      <td>347.534532</td>\n",
       "      <td>-25.610997</td>\n",
       "    </tr>\n",
       "    <tr>\n",
       "      <th>3.113367</th>\n",
       "      <td>333.504034</td>\n",
       "      <td>-30.510997</td>\n",
       "    </tr>\n",
       "    <tr>\n",
       "      <th>3.613367</th>\n",
       "      <td>317.023535</td>\n",
       "      <td>-35.410997</td>\n",
       "    </tr>\n",
       "    <tr>\n",
       "      <th>4.113367</th>\n",
       "      <td>298.093036</td>\n",
       "      <td>-40.310997</td>\n",
       "    </tr>\n",
       "    <tr>\n",
       "      <th>4.613367</th>\n",
       "      <td>276.712538</td>\n",
       "      <td>-45.210997</td>\n",
       "    </tr>\n",
       "    <tr>\n",
       "      <th>5.113367</th>\n",
       "      <td>252.882039</td>\n",
       "      <td>-50.110997</td>\n",
       "    </tr>\n",
       "    <tr>\n",
       "      <th>5.613367</th>\n",
       "      <td>226.601541</td>\n",
       "      <td>-55.010997</td>\n",
       "    </tr>\n",
       "    <tr>\n",
       "      <th>6.113367</th>\n",
       "      <td>197.871042</td>\n",
       "      <td>-59.910997</td>\n",
       "    </tr>\n",
       "    <tr>\n",
       "      <th>6.613367</th>\n",
       "      <td>166.690544</td>\n",
       "      <td>-64.810997</td>\n",
       "    </tr>\n",
       "    <tr>\n",
       "      <th>7.113367</th>\n",
       "      <td>133.060045</td>\n",
       "      <td>-69.710997</td>\n",
       "    </tr>\n",
       "    <tr>\n",
       "      <th>7.613367</th>\n",
       "      <td>96.979547</td>\n",
       "      <td>-74.610997</td>\n",
       "    </tr>\n",
       "    <tr>\n",
       "      <th>8.113367</th>\n",
       "      <td>58.449048</td>\n",
       "      <td>-79.510997</td>\n",
       "    </tr>\n",
       "    <tr>\n",
       "      <th>8.613367</th>\n",
       "      <td>17.468550</td>\n",
       "      <td>-84.410997</td>\n",
       "    </tr>\n",
       "    <tr>\n",
       "      <th>9.113367</th>\n",
       "      <td>-25.961949</td>\n",
       "      <td>-89.310997</td>\n",
       "    </tr>\n",
       "    <tr>\n",
       "      <th>9.613367</th>\n",
       "      <td>-71.842448</td>\n",
       "      <td>-94.210997</td>\n",
       "    </tr>\n",
       "    <tr>\n",
       "      <th>10.000000</th>\n",
       "      <td>-109.000000</td>\n",
       "      <td>-98.000000</td>\n",
       "    </tr>\n",
       "  </tbody>\n",
       "</table>\n",
       "</div>"
      ],
      "text/plain": [
       "                    y          v\n",
       "0.000000   381.000000   0.000000\n",
       "0.000102   381.000000  -0.001000\n",
       "0.001122   380.999994  -0.011000\n",
       "0.011327   380.999371  -0.111000\n",
       "0.113367   380.937025  -1.110997\n",
       "0.613367   379.156526  -6.010997\n",
       "1.113367   374.926028 -10.910997\n",
       "1.613367   368.245529 -15.810997\n",
       "2.113367   359.115031 -20.710997\n",
       "2.613367   347.534532 -25.610997\n",
       "3.113367   333.504034 -30.510997\n",
       "3.613367   317.023535 -35.410997\n",
       "4.113367   298.093036 -40.310997\n",
       "4.613367   276.712538 -45.210997\n",
       "5.113367   252.882039 -50.110997\n",
       "5.613367   226.601541 -55.010997\n",
       "6.113367   197.871042 -59.910997\n",
       "6.613367   166.690544 -64.810997\n",
       "7.113367   133.060045 -69.710997\n",
       "7.613367    96.979547 -74.610997\n",
       "8.113367    58.449048 -79.510997\n",
       "8.613367    17.468550 -84.410997\n",
       "9.113367   -25.961949 -89.310997\n",
       "9.613367   -71.842448 -94.210997\n",
       "10.000000 -109.000000 -98.000000"
      ]
     },
     "execution_count": 10,
     "metadata": {},
     "output_type": "execute_result"
    }
   ],
   "source": [
    "results"
   ]
  },
  {
   "cell_type": "markdown",
   "metadata": {},
   "source": [
    "And here's position as a function of time:"
   ]
  },
  {
   "cell_type": "code",
   "execution_count": 11,
   "metadata": {},
   "outputs": [
    {
     "name": "stdout",
     "output_type": "stream",
     "text": [
      "Saving figure to file figs/chap09-fig01.pdf\n"
     ]
    },
    {
     "data": {
      "image/png": "[encoded data removed]",
      "text/plain": [
       "<Figure size 432x288 with 1 Axes>"
      ]
     },
     "metadata": {},
     "output_type": "display_data"
    }
   ],
   "source": [
    "def plot_position(results):\n",
    "    plot(results.y, label='y')\n",
    "    decorate(xlabel='Time (s)',\n",
    "             ylabel='Position (m)')\n",
    "\n",
    "plot_position(results)\n",
    "savefig('figs/chap09-fig01.pdf')"
   ]
  },
  {
   "cell_type": "markdown",
   "metadata": {},
   "source": [
    "### Onto the sidewalk\n",
    "\n",
    "To figure out when the penny hit the sidewalk, we can use `crossings`, which finds the times where a `Series` passes through a given value."
   ]
  },
  {
   "cell_type": "code",
   "execution_count": 12,
   "metadata": {},
   "outputs": [
    {
     "data": {
      "text/plain": [
       "array([8.81788535])"
      ]
     },
     "execution_count": 12,
     "metadata": {},
     "output_type": "execute_result"
    }
   ],
   "source": [
    "t_crossings = crossings(results.y, 0)"
   ]
  },
  {
   "cell_type": "markdown",
   "metadata": {},
   "source": [
    "For this example there should be just one crossing, the time when the penny hits the sidewalk."
   ]
  },
  {
   "cell_type": "code",
   "execution_count": 13,
   "metadata": {},
   "outputs": [
    {
     "data": {
      "text/html": [
       "8.817885349720552 second"
      ],
      "text/latex": [
       "$8.817885349720552 second$"
      ],
      "text/plain": [
       "<Quantity(8.817885349720552, 'second')>"
      ]
     },
     "execution_count": 13,
     "metadata": {},
     "output_type": "execute_result"
    }
   ],
   "source": [
    "t_sidewalk = t_crossings[0] * s"
   ]
  },
  {
   "cell_type": "markdown",
   "metadata": {},
   "source": [
    "We can compare that to the exact result.  Without air resistance, we have\n",
    "\n",
    "$v = -g t$\n",
    "\n",
    "and\n",
    "\n",
    "$y = 381 - g t^2 / 2$\n",
    "\n",
    "Setting $y=0$ and solving for $t$ yields\n",
    "\n",
    "$t = \\sqrt{\\frac{2 y_{init}}{g}}$"
   ]
  },
  {
   "cell_type": "code",
   "execution_count": 14,
   "metadata": {},
   "outputs": [
    {
     "data": {
      "text/html": [
       "8.817885349720552 second"
      ],
      "text/latex": [
       "$8.817885349720552 second$"
      ],
      "text/plain": [
       "<Quantity(8.817885349720552, 'second')>"
      ]
     },
     "execution_count": 14,
     "metadata": {},
     "output_type": "execute_result"
    }
   ],
   "source": [
    "sqrt(2 * init.y / g)"
   ]
  },
  {
   "cell_type": "markdown",
   "metadata": {},
   "source": [
    "The estimate is accurate to about 10 decimal places."
   ]
  },
  {
   "cell_type": "markdown",
   "metadata": {},
   "source": [
    "## Events\n",
    "\n",
    "Instead of running the simulation until the penny goes through the sidewalk, it would be better to detect the point where the penny hits the sidewalk and stop.  `run_ode_solver` provides exactly the tool we need, **event functions**.\n",
    "\n",
    "Here's an event function that returns the height of the penny above the sidewalk:"
   ]
  },
  {
   "cell_type": "code",
   "execution_count": 15,
   "metadata": {},
   "outputs": [],
   "source": [
    "def event_func(state, t, system):\n",
    "    \"\"\"Return the height of the penny above the sidewalk.\n",
    "    \"\"\"\n",
    "    y, v = state\n",
    "    return y"
   ]
  },
  {
   "cell_type": "markdown",
   "metadata": {},
   "source": [
    "And here's how we pass it to `run_ode_solver`.  The solver should run until the event function returns 0, and then terminate."
   ]
  },
  {
   "cell_type": "code",
   "execution_count": 16,
   "metadata": {},
   "outputs": [
    {
     "data": {
      "text/html": [
       "<div>\n",
       "<style scoped>\n",
       "    .dataframe tbody tr th:only-of-type {\n",
       "        vertical-align: middle;\n",
       "    }\n",
       "\n",
       "    .dataframe tbody tr th {\n",
       "        vertical-align: top;\n",
       "    }\n",
       "\n",
       "    .dataframe thead th {\n",
       "        text-align: right;\n",
       "    }\n",
       "</style>\n",
       "<table border=\"1\" class=\"dataframe\">\n",
       "  <thead>\n",
       "    <tr style=\"text-align: right;\">\n",
       "      <th></th>\n",
       "      <th>values</th>\n",
       "    </tr>\n",
       "  </thead>\n",
       "  <tbody>\n",
       "    <tr>\n",
       "      <th>sol</th>\n",
       "      <td>None</td>\n",
       "    </tr>\n",
       "    <tr>\n",
       "      <th>t_events</th>\n",
       "      <td>[[8.81788534972056]]</td>\n",
       "    </tr>\n",
       "    <tr>\n",
       "      <th>nfev</th>\n",
       "      <td>38</td>\n",
       "    </tr>\n",
       "    <tr>\n",
       "      <th>njev</th>\n",
       "      <td>0</td>\n",
       "    </tr>\n",
       "    <tr>\n",
       "      <th>nlu</th>\n",
       "      <td>0</td>\n",
       "    </tr>\n",
       "    <tr>\n",
       "      <th>status</th>\n",
       "      <td>1</td>\n",
       "    </tr>\n",
       "    <tr>\n",
       "      <th>message</th>\n",
       "      <td>A termination event occurred.</td>\n",
       "    </tr>\n",
       "    <tr>\n",
       "      <th>success</th>\n",
       "      <td>True</td>\n",
       "    </tr>\n",
       "  </tbody>\n",
       "</table>\n",
       "</div>"
      ],
      "text/plain": [
       "sol                                  None\n",
       "t_events             [[8.81788534972056]]\n",
       "nfev                                   38\n",
       "njev                                    0\n",
       "nlu                                     0\n",
       "status                                  1\n",
       "message     A termination event occurred.\n",
       "success                              True\n",
       "dtype: object"
      ]
     },
     "execution_count": 16,
     "metadata": {},
     "output_type": "execute_result"
    }
   ],
   "source": [
    "results, details = run_ode_solver(system, slope_func, events=event_func)\n",
    "details"
   ]
  },
  {
   "cell_type": "markdown",
   "metadata": {},
   "source": [
    "The message from the solver indicates the solver stopped because the event we wanted to detect happened.\n",
    "\n",
    "Here are the results:"
   ]
  },
  {
   "cell_type": "code",
   "execution_count": 17,
   "metadata": {},
   "outputs": [
    {
     "data": {
      "text/html": [
       "<div>\n",
       "<style scoped>\n",
       "    .dataframe tbody tr th:only-of-type {\n",
       "        vertical-align: middle;\n",
       "    }\n",
       "\n",
       "    .dataframe tbody tr th {\n",
       "        vertical-align: top;\n",
       "    }\n",
       "\n",
       "    .dataframe thead th {\n",
       "        text-align: right;\n",
       "    }\n",
       "</style>\n",
       "<table border=\"1\" class=\"dataframe\">\n",
       "  <thead>\n",
       "    <tr style=\"text-align: right;\">\n",
       "      <th></th>\n",
       "      <th>y</th>\n",
       "      <th>v</th>\n",
       "    </tr>\n",
       "  </thead>\n",
       "  <tbody>\n",
       "    <tr>\n",
       "      <th>0.000000</th>\n",
       "      <td>3.810000e+02</td>\n",
       "      <td>0.000000</td>\n",
       "    </tr>\n",
       "    <tr>\n",
       "      <th>0.000102</th>\n",
       "      <td>3.810000e+02</td>\n",
       "      <td>-0.001000</td>\n",
       "    </tr>\n",
       "    <tr>\n",
       "      <th>0.001122</th>\n",
       "      <td>3.810000e+02</td>\n",
       "      <td>-0.011000</td>\n",
       "    </tr>\n",
       "    <tr>\n",
       "      <th>0.011327</th>\n",
       "      <td>3.809994e+02</td>\n",
       "      <td>-0.111000</td>\n",
       "    </tr>\n",
       "    <tr>\n",
       "      <th>0.113367</th>\n",
       "      <td>3.809370e+02</td>\n",
       "      <td>-1.110997</td>\n",
       "    </tr>\n",
       "    <tr>\n",
       "      <th>1.133773</th>\n",
       "      <td>3.747013e+02</td>\n",
       "      <td>-11.110971</td>\n",
       "    </tr>\n",
       "    <tr>\n",
       "      <th>8.817885</th>\n",
       "      <td>5.684342e-14</td>\n",
       "      <td>-86.415276</td>\n",
       "    </tr>\n",
       "  </tbody>\n",
       "</table>\n",
       "</div>"
      ],
      "text/plain": [
       "                     y          v\n",
       "0.000000  3.810000e+02   0.000000\n",
       "0.000102  3.810000e+02  -0.001000\n",
       "0.001122  3.810000e+02  -0.011000\n",
       "0.011327  3.809994e+02  -0.111000\n",
       "0.113367  3.809370e+02  -1.110997\n",
       "1.133773  3.747013e+02 -11.110971\n",
       "8.817885  5.684342e-14 -86.415276"
      ]
     },
     "execution_count": 17,
     "metadata": {},
     "output_type": "execute_result"
    }
   ],
   "source": [
    "results"
   ]
  },
  {
   "cell_type": "markdown",
   "metadata": {},
   "source": [
    "With the `events` option, the solver returns the actual time steps it computed, which are not necessarily equally spaced. \n",
    "\n",
    "The last time step is when the event occurred:"
   ]
  },
  {
   "cell_type": "code",
   "execution_count": 18,
   "metadata": {},
   "outputs": [
    {
     "data": {
      "text/html": [
       "8.81788534972056 second"
      ],
      "text/latex": [
       "$8.81788534972056 second$"
      ],
      "text/plain": [
       "<Quantity(8.81788534972056, 'second')>"
      ]
     },
     "execution_count": 18,
     "metadata": {},
     "output_type": "execute_result"
    }
   ],
   "source": [
    "t_sidewalk = get_last_label(results) * s"
   ]
  },
  {
   "cell_type": "markdown",
   "metadata": {},
   "source": [
    "Unfortunately, `run_ode_solver` does not carry the units through the computation, so we have to put them back at the end.\n",
    "\n",
    "We could also get the time of the event from `details`, but it's a minor nuisance because it comes packed in an array:"
   ]
  },
  {
   "cell_type": "code",
   "execution_count": 19,
   "metadata": {},
   "outputs": [
    {
     "data": {
      "text/html": [
       "8.81788534972056 second"
      ],
      "text/latex": [
       "$8.81788534972056 second$"
      ],
      "text/plain": [
       "<Quantity(8.81788534972056, 'second')>"
      ]
     },
     "execution_count": 19,
     "metadata": {},
     "output_type": "execute_result"
    }
   ],
   "source": [
    "details.t_events[0][0] * s"
   ]
  },
  {
   "cell_type": "markdown",
   "metadata": {},
   "source": [
    "The result is accurate to about 15 decimal places.\n",
    "\n",
    "We can also check the velocity of the penny when it hits the sidewalk:"
   ]
  },
  {
   "cell_type": "code",
   "execution_count": 20,
   "metadata": {},
   "outputs": [
    {
     "data": {
      "text/html": [
       "-86.41527642726152 meter/second"
      ],
      "text/latex": [
       "$-86.41527642726152 \\frac{meter}{second}$"
      ],
      "text/plain": [
       "<Quantity(-86.41527642726152, 'meter / second')>"
      ]
     },
     "execution_count": 20,
     "metadata": {},
     "output_type": "execute_result"
    }
   ],
   "source": [
    "v_sidewalk = get_last_value(results.v) * m / s"
   ]
  },
  {
   "cell_type": "markdown",
   "metadata": {},
   "source": [
    "And convert to kilometers per hour."
   ]
  },
  {
   "cell_type": "code",
   "execution_count": 21,
   "metadata": {},
   "outputs": [
    {
     "data": {
      "text/html": [
       "-311.0949951381415 kilometer/hour"
      ],
      "text/latex": [
       "$-311.0949951381415 \\frac{kilometer}{hour}$"
      ],
      "text/plain": [
       "<Quantity(-311.0949951381415, 'kilometer / hour')>"
      ]
     },
     "execution_count": 21,
     "metadata": {},
     "output_type": "execute_result"
    }
   ],
   "source": [
    "km = UNITS.kilometer\n",
    "h = UNITS.hour\n",
    "v_sidewalk.to(km / h)"
   ]
  },
  {
   "cell_type": "markdown",
   "metadata": {},
   "source": [
    "If there were no air resistance, the penny would hit the sidewalk (or someone's head) at more than 300 km/h.\n",
    "\n",
    "So it's a good thing there is air resistance."
   ]
  },
  {
   "cell_type": "markdown",
   "metadata": {},
   "source": [
    "## Under the hood\n",
    "\n",
    "Here is the source code for `crossings` so you can see what's happening under the hood:"
   ]
  },
  {
   "cell_type": "code",
   "execution_count": 23,
   "metadata": {},
   "outputs": [],
   "source": [
    "%psource crossings"
   ]
  },
  {
   "cell_type": "markdown",
   "metadata": {},
   "source": [
    "The [documentation of InterpolatedUnivariateSpline is here](https://docs.scipy.org/doc/scipy/reference/generated/scipy.interpolate.InterpolatedUnivariateSpline.html).\n",
    "\n",
    "And you can read the [documentation of `scipy.integrate.solve_ivp`](https://docs.scipy.org/doc/scipy/reference/generated/scipy.integrate.solve_ivp.html) to learn more about how `run_ode_solver` works."
   ]
  },
  {
   "cell_type": "markdown",
   "metadata": {},
   "source": [
    "### Exercises\n",
    "\n",
    "**Exercise:** Here's a question from the web site [Ask an Astronomer](http://curious.astro.cornell.edu/about-us/39-our-solar-system/the-earth/other-catastrophes/57-how-long-would-it-take-the-earth-to-fall-into-the-sun-intermediate):\n",
    "\n",
    "\"If the Earth suddenly stopped orbiting the Sun, I know eventually it would be pulled in by the Sun's gravity and hit it. How long would it take the Earth to hit the Sun? I imagine it would go slowly at first and then pick up speed.\"\n",
    "\n",
    "Use `run_ode_solver` to answer this question.\n",
    "\n",
    "Here are some suggestions about how to proceed:\n",
    "\n",
    "1.  Look up the Law of Universal Gravitation and any constants you need.  I suggest you work entirely in SI units: meters, kilograms, and Newtons.\n",
    "\n",
    "2.  When the distance between the Earth and the Sun gets small, this system behaves badly, so you should use an event function to stop when the surface of Earth reaches the surface of the Sun.\n",
    "\n",
    "3. Express your answer in days, and plot the results as millions of kilometers versus days.\n",
    "\n",
    "If you read the reply by Dave Rothstein, you will see other ways to solve the problem, and a good discussion of the modeling decisions behind them.\n",
    "\n",
    "You might also be interested to know that [it's actually not that easy to get to the Sun](https://www.theatlantic.com/science/archive/2018/08/parker-solar-probe-launch-nasa/567197/)."
   ]
  },
  {
   "cell_type": "code",
   "execution_count": 266,
   "metadata": {},
   "outputs": [
    {
     "data": {
      "text/html": [
       "<div>\n",
       "<style scoped>\n",
       "    .dataframe tbody tr th:only-of-type {\n",
       "        vertical-align: middle;\n",
       "    }\n",
       "\n",
       "    .dataframe tbody tr th {\n",
       "        vertical-align: top;\n",
       "    }\n",
       "\n",
       "    .dataframe thead th {\n",
       "        text-align: right;\n",
       "    }\n",
       "</style>\n",
       "<table border=\"1\" class=\"dataframe\">\n",
       "  <thead>\n",
       "    <tr style=\"text-align: right;\">\n",
       "      <th></th>\n",
       "      <th>values</th>\n",
       "    </tr>\n",
       "  </thead>\n",
       "  <tbody>\n",
       "    <tr>\n",
       "      <th>D</th>\n",
       "      <td>1.490000e+11</td>\n",
       "    </tr>\n",
       "    <tr>\n",
       "      <th>v_e</th>\n",
       "      <td>0.000000e+00</td>\n",
       "    </tr>\n",
       "  </tbody>\n",
       "</table>\n",
       "</div>"
      ],
      "text/plain": [
       "D      1.490000e+11\n",
       "v_e    0.000000e+00\n",
       "dtype: float64"
      ]
     },
     "execution_count": 266,
     "metadata": {},
     "output_type": "execute_result"
    }
   ],
   "source": [
    "init = State(D=149e9, v_e=0)"
   ]
  },
  {
   "cell_type": "code",
   "execution_count": 267,
   "metadata": {},
   "outputs": [
    {
     "data": {
      "text/html": [
       "<div>\n",
       "<style scoped>\n",
       "    .dataframe tbody tr th:only-of-type {\n",
       "        vertical-align: middle;\n",
       "    }\n",
       "\n",
       "    .dataframe tbody tr th {\n",
       "        vertical-align: top;\n",
       "    }\n",
       "\n",
       "    .dataframe thead th {\n",
       "        text-align: right;\n",
       "    }\n",
       "</style>\n",
       "<table border=\"1\" class=\"dataframe\">\n",
       "  <thead>\n",
       "    <tr style=\"text-align: right;\">\n",
       "      <th></th>\n",
       "      <th>values</th>\n",
       "    </tr>\n",
       "  </thead>\n",
       "  <tbody>\n",
       "    <tr>\n",
       "      <th>init</th>\n",
       "      <td>D      1.490000e+11\n",
       "v_e    0.000000e+00\n",
       "dtype:...</td>\n",
       "    </tr>\n",
       "    <tr>\n",
       "      <th>a</th>\n",
       "      <td>0</td>\n",
       "    </tr>\n",
       "    <tr>\n",
       "      <th>m_s</th>\n",
       "      <td>1.989e+30</td>\n",
       "    </tr>\n",
       "    <tr>\n",
       "      <th>G</th>\n",
       "      <td>6.67e-11</td>\n",
       "    </tr>\n",
       "    <tr>\n",
       "      <th>t_end</th>\n",
       "      <td>1e+15</td>\n",
       "    </tr>\n",
       "  </tbody>\n",
       "</table>\n",
       "</div>"
      ],
      "text/plain": [
       "init     D      1.490000e+11\n",
       "v_e    0.000000e+00\n",
       "dtype:...\n",
       "a                                                        0\n",
       "m_s                                              1.989e+30\n",
       "G                                                 6.67e-11\n",
       "t_end                                                1e+15\n",
       "dtype: object"
      ]
     },
     "execution_count": 267,
     "metadata": {},
     "output_type": "execute_result"
    }
   ],
   "source": [
    "a = 0\n",
    "m_s = 1.989e30\n",
    "G = 6.67e-11\n",
    "t_end = 1e15\n",
    "system = System(init=init, a=a ,m_s=m_s, G=G, t_end=t_end)"
   ]
  },
  {
   "cell_type": "code",
   "execution_count": 268,
   "metadata": {},
   "outputs": [],
   "source": [
    "def slope_func(state, t, system):\n",
    "    \n",
    "    \n",
    "    D,v_e = state\n",
    "    unpack(system)    \n",
    "\n",
    "    a = G* m_s / D**2  \n",
    "    v_e = v_e - a\n",
    "    \n",
    "    dDdt = v_e\n",
    "    dvdt = -a\n",
    "    \n",
    "    return dDdt, dvdt"
   ]
  },
  {
   "cell_type": "code",
   "execution_count": 269,
   "metadata": {},
   "outputs": [
    {
     "name": "stdout",
     "output_type": "stream",
     "text": [
      "-0.005975690284221432\n",
      "-0.005975690284221432\n"
     ]
    }
   ],
   "source": [
    "dDdt, dvdt = slope_func(init, 0, system)\n",
    "print(dDdt)\n",
    "print(dvdt)"
   ]
  },
  {
   "cell_type": "code",
   "execution_count": 270,
   "metadata": {},
   "outputs": [
    {
     "data": {
      "text/plain": [
       "'Required step size is less than spacing between numbers.'"
      ]
     },
     "execution_count": 270,
     "metadata": {},
     "output_type": "execute_result"
    }
   ],
   "source": [
    "results, details = run_ode_solver(system, slope_func)\n",
    "details.message"
   ]
  },
  {
   "cell_type": "code",
   "execution_count": 271,
   "metadata": {},
   "outputs": [],
   "source": [
    "results.index /= 60*60*24\n",
    "results.D /= 1e9"
   ]
  },
  {
   "cell_type": "code",
   "execution_count": 272,
   "metadata": {},
   "outputs": [
    {
     "data": {
      "text/html": [
       "<div>\n",
       "<style scoped>\n",
       "    .dataframe tbody tr th:only-of-type {\n",
       "        vertical-align: middle;\n",
       "    }\n",
       "\n",
       "    .dataframe tbody tr th {\n",
       "        vertical-align: top;\n",
       "    }\n",
       "\n",
       "    .dataframe thead th {\n",
       "        text-align: right;\n",
       "    }\n",
       "</style>\n",
       "<table border=\"1\" class=\"dataframe\">\n",
       "  <thead>\n",
       "    <tr style=\"text-align: right;\">\n",
       "      <th></th>\n",
       "      <th>D</th>\n",
       "      <th>v_e</th>\n",
       "    </tr>\n",
       "  </thead>\n",
       "  <tbody>\n",
       "    <tr>\n",
       "      <th>0.000000e+00</th>\n",
       "      <td>149.000000</td>\n",
       "      <td>0.000000e+00</td>\n",
       "    </tr>\n",
       "    <tr>\n",
       "      <th>8.675842e-07</th>\n",
       "      <td>149.000000</td>\n",
       "      <td>-4.479334e-04</td>\n",
       "    </tr>\n",
       "    <tr>\n",
       "      <th>9.543426e-06</th>\n",
       "      <td>149.000000</td>\n",
       "      <td>-4.927268e-03</td>\n",
       "    </tr>\n",
       "    <tr>\n",
       "      <th>9.630185e-05</th>\n",
       "      <td>149.000000</td>\n",
       "      <td>-4.972061e-02</td>\n",
       "    </tr>\n",
       "    <tr>\n",
       "      <th>9.638861e-04</th>\n",
       "      <td>149.000000</td>\n",
       "      <td>-4.976540e-01</td>\n",
       "    </tr>\n",
       "    <tr>\n",
       "      <th>9.639728e-03</th>\n",
       "      <td>148.999998</td>\n",
       "      <td>-4.976988e+00</td>\n",
       "    </tr>\n",
       "    <tr>\n",
       "      <th>9.639815e-02</th>\n",
       "      <td>148.999793</td>\n",
       "      <td>-4.977038e+01</td>\n",
       "    </tr>\n",
       "    <tr>\n",
       "      <th>9.639824e-01</th>\n",
       "      <td>148.979272</td>\n",
       "      <td>-4.977499e+02</td>\n",
       "    </tr>\n",
       "    <tr>\n",
       "      <th>9.639824e+00</th>\n",
       "      <td>146.917643</td>\n",
       "      <td>-5.023912e+03</td>\n",
       "    </tr>\n",
       "    <tr>\n",
       "      <th>4.058878e+01</th>\n",
       "      <td>108.508105</td>\n",
       "      <td>-2.577312e+04</td>\n",
       "    </tr>\n",
       "    <tr>\n",
       "      <th>5.457280e+01</th>\n",
       "      <td>66.663067</td>\n",
       "      <td>-4.691990e+04</td>\n",
       "    </tr>\n",
       "    <tr>\n",
       "      <th>5.961786e+01</th>\n",
       "      <td>42.525221</td>\n",
       "      <td>-6.679619e+04</td>\n",
       "    </tr>\n",
       "    <tr>\n",
       "      <th>6.257177e+01</th>\n",
       "      <td>22.026547</td>\n",
       "      <td>-1.014535e+05</td>\n",
       "    </tr>\n",
       "    <tr>\n",
       "      <th>6.292509e+01</th>\n",
       "      <td>18.788314</td>\n",
       "      <td>-1.112159e+05</td>\n",
       "    </tr>\n",
       "    <tr>\n",
       "      <th>6.341299e+01</th>\n",
       "      <td>13.693881</td>\n",
       "      <td>-1.327512e+05</td>\n",
       "    </tr>\n",
       "    <tr>\n",
       "      <th>6.383618e+01</th>\n",
       "      <td>8.199368</td>\n",
       "      <td>-1.749729e+05</td>\n",
       "    </tr>\n",
       "    <tr>\n",
       "      <th>6.403475e+01</th>\n",
       "      <td>4.799012</td>\n",
       "      <td>-2.314378e+05</td>\n",
       "    </tr>\n",
       "    <tr>\n",
       "      <th>6.411580e+01</th>\n",
       "      <td>2.990705</td>\n",
       "      <td>-2.949652e+05</td>\n",
       "    </tr>\n",
       "    <tr>\n",
       "      <th>6.416372e+01</th>\n",
       "      <td>1.586250</td>\n",
       "      <td>-4.071144e+05</td>\n",
       "    </tr>\n",
       "    <tr>\n",
       "      <th>6.417081e+01</th>\n",
       "      <td>1.325548</td>\n",
       "      <td>-4.456851e+05</td>\n",
       "    </tr>\n",
       "    <tr>\n",
       "      <th>6.418272e+01</th>\n",
       "      <td>0.813374</td>\n",
       "      <td>-5.698264e+05</td>\n",
       "    </tr>\n",
       "    <tr>\n",
       "      <th>6.418922e+01</th>\n",
       "      <td>0.448372</td>\n",
       "      <td>-7.684582e+05</td>\n",
       "    </tr>\n",
       "    <tr>\n",
       "      <th>6.419085e+01</th>\n",
       "      <td>0.332415</td>\n",
       "      <td>-8.925997e+05</td>\n",
       "    </tr>\n",
       "    <tr>\n",
       "      <th>6.419242e+01</th>\n",
       "      <td>0.196298</td>\n",
       "      <td>-1.161656e+06</td>\n",
       "    </tr>\n",
       "    <tr>\n",
       "      <th>6.419309e+01</th>\n",
       "      <td>0.120734</td>\n",
       "      <td>-1.480534e+06</td>\n",
       "    </tr>\n",
       "    <tr>\n",
       "      <th>6.419345e+01</th>\n",
       "      <td>0.067264</td>\n",
       "      <td>-1.980802e+06</td>\n",
       "    </tr>\n",
       "    <tr>\n",
       "      <th>6.419351e+01</th>\n",
       "      <td>0.057181</td>\n",
       "      <td>-2.146532e+06</td>\n",
       "    </tr>\n",
       "    <tr>\n",
       "      <th>6.419361e+01</th>\n",
       "      <td>0.036104</td>\n",
       "      <td>-2.691367e+06</td>\n",
       "    </tr>\n",
       "    <tr>\n",
       "      <th>6.419367e+01</th>\n",
       "      <td>0.019662</td>\n",
       "      <td>-3.608779e+06</td>\n",
       "    </tr>\n",
       "    <tr>\n",
       "      <th>6.419369e+01</th>\n",
       "      <td>0.012260</td>\n",
       "      <td>-4.489258e+06</td>\n",
       "    </tr>\n",
       "    <tr>\n",
       "      <th>6.419369e+01</th>\n",
       "      <td>0.008079</td>\n",
       "      <td>-5.375493e+06</td>\n",
       "    </tr>\n",
       "    <tr>\n",
       "      <th>6.419370e+01</th>\n",
       "      <td>0.005140</td>\n",
       "      <td>-6.396612e+06</td>\n",
       "    </tr>\n",
       "    <tr>\n",
       "      <th>6.419370e+01</th>\n",
       "      <td>0.002538</td>\n",
       "      <td>-7.873279e+06</td>\n",
       "    </tr>\n",
       "    <tr>\n",
       "      <th>6.419370e+01</th>\n",
       "      <td>0.002174</td>\n",
       "      <td>-8.146372e+06</td>\n",
       "    </tr>\n",
       "    <tr>\n",
       "      <th>6.419370e+01</th>\n",
       "      <td>0.001431</td>\n",
       "      <td>-8.761871e+06</td>\n",
       "    </tr>\n",
       "    <tr>\n",
       "      <th>6.419370e+01</th>\n",
       "      <td>0.001000</td>\n",
       "      <td>-9.153856e+06</td>\n",
       "    </tr>\n",
       "    <tr>\n",
       "      <th>6.419370e+01</th>\n",
       "      <td>0.000824</td>\n",
       "      <td>-9.320076e+06</td>\n",
       "    </tr>\n",
       "    <tr>\n",
       "      <th>6.419370e+01</th>\n",
       "      <td>0.000631</td>\n",
       "      <td>-9.506120e+06</td>\n",
       "    </tr>\n",
       "    <tr>\n",
       "      <th>6.419370e+01</th>\n",
       "      <td>0.000379</td>\n",
       "      <td>-9.753530e+06</td>\n",
       "    </tr>\n",
       "    <tr>\n",
       "      <th>6.419370e+01</th>\n",
       "      <td>0.000308</td>\n",
       "      <td>-9.823030e+06</td>\n",
       "    </tr>\n",
       "    <tr>\n",
       "      <th>6.419370e+01</th>\n",
       "      <td>0.000242</td>\n",
       "      <td>-9.888882e+06</td>\n",
       "    </tr>\n",
       "    <tr>\n",
       "      <th>6.419370e+01</th>\n",
       "      <td>0.000173</td>\n",
       "      <td>-9.958383e+06</td>\n",
       "    </tr>\n",
       "    <tr>\n",
       "      <th>6.419370e+01</th>\n",
       "      <td>0.000150</td>\n",
       "      <td>-9.980442e+06</td>\n",
       "    </tr>\n",
       "    <tr>\n",
       "      <th>6.419370e+01</th>\n",
       "      <td>0.000120</td>\n",
       "      <td>-1.001048e+07</td>\n",
       "    </tr>\n",
       "    <tr>\n",
       "      <th>6.419370e+01</th>\n",
       "      <td>0.000092</td>\n",
       "      <td>-1.003910e+07</td>\n",
       "    </tr>\n",
       "    <tr>\n",
       "      <th>6.419370e+01</th>\n",
       "      <td>0.000056</td>\n",
       "      <td>-1.007467e+07</td>\n",
       "    </tr>\n",
       "    <tr>\n",
       "      <th>6.419370e+01</th>\n",
       "      <td>0.000041</td>\n",
       "      <td>-1.008952e+07</td>\n",
       "    </tr>\n",
       "    <tr>\n",
       "      <th>6.419370e+01</th>\n",
       "      <td>0.000032</td>\n",
       "      <td>-1.009878e+07</td>\n",
       "    </tr>\n",
       "    <tr>\n",
       "      <th>6.419370e+01</th>\n",
       "      <td>0.000022</td>\n",
       "      <td>-1.010887e+07</td>\n",
       "    </tr>\n",
       "    <tr>\n",
       "      <th>6.419370e+01</th>\n",
       "      <td>0.000017</td>\n",
       "      <td>-1.011373e+07</td>\n",
       "    </tr>\n",
       "  </tbody>\n",
       "</table>\n",
       "</div>"
      ],
      "text/plain": [
       "                       D           v_e\n",
       "0.000000e+00  149.000000  0.000000e+00\n",
       "8.675842e-07  149.000000 -4.479334e-04\n",
       "9.543426e-06  149.000000 -4.927268e-03\n",
       "9.630185e-05  149.000000 -4.972061e-02\n",
       "9.638861e-04  149.000000 -4.976540e-01\n",
       "9.639728e-03  148.999998 -4.976988e+00\n",
       "9.639815e-02  148.999793 -4.977038e+01\n",
       "9.639824e-01  148.979272 -4.977499e+02\n",
       "9.639824e+00  146.917643 -5.023912e+03\n",
       "4.058878e+01  108.508105 -2.577312e+04\n",
       "5.457280e+01   66.663067 -4.691990e+04\n",
       "5.961786e+01   42.525221 -6.679619e+04\n",
       "6.257177e+01   22.026547 -1.014535e+05\n",
       "6.292509e+01   18.788314 -1.112159e+05\n",
       "6.341299e+01   13.693881 -1.327512e+05\n",
       "6.383618e+01    8.199368 -1.749729e+05\n",
       "6.403475e+01    4.799012 -2.314378e+05\n",
       "6.411580e+01    2.990705 -2.949652e+05\n",
       "6.416372e+01    1.586250 -4.071144e+05\n",
       "6.417081e+01    1.325548 -4.456851e+05\n",
       "6.418272e+01    0.813374 -5.698264e+05\n",
       "6.418922e+01    0.448372 -7.684582e+05\n",
       "6.419085e+01    0.332415 -8.925997e+05\n",
       "6.419242e+01    0.196298 -1.161656e+06\n",
       "6.419309e+01    0.120734 -1.480534e+06\n",
       "6.419345e+01    0.067264 -1.980802e+06\n",
       "6.419351e+01    0.057181 -2.146532e+06\n",
       "6.419361e+01    0.036104 -2.691367e+06\n",
       "6.419367e+01    0.019662 -3.608779e+06\n",
       "6.419369e+01    0.012260 -4.489258e+06\n",
       "6.419369e+01    0.008079 -5.375493e+06\n",
       "6.419370e+01    0.005140 -6.396612e+06\n",
       "6.419370e+01    0.002538 -7.873279e+06\n",
       "6.419370e+01    0.002174 -8.146372e+06\n",
       "6.419370e+01    0.001431 -8.761871e+06\n",
       "6.419370e+01    0.001000 -9.153856e+06\n",
       "6.419370e+01    0.000824 -9.320076e+06\n",
       "6.419370e+01    0.000631 -9.506120e+06\n",
       "6.419370e+01    0.000379 -9.753530e+06\n",
       "6.419370e+01    0.000308 -9.823030e+06\n",
       "6.419370e+01    0.000242 -9.888882e+06\n",
       "6.419370e+01    0.000173 -9.958383e+06\n",
       "6.419370e+01    0.000150 -9.980442e+06\n",
       "6.419370e+01    0.000120 -1.001048e+07\n",
       "6.419370e+01    0.000092 -1.003910e+07\n",
       "6.419370e+01    0.000056 -1.007467e+07\n",
       "6.419370e+01    0.000041 -1.008952e+07\n",
       "6.419370e+01    0.000032 -1.009878e+07\n",
       "6.419370e+01    0.000022 -1.010887e+07\n",
       "6.419370e+01    0.000017 -1.011373e+07"
      ]
     },
     "execution_count": 272,
     "metadata": {},
     "output_type": "execute_result"
    }
   ],
   "source": [
    "results"
   ]
  },
  {
   "cell_type": "code",
   "execution_count": 273,
   "metadata": {},
   "outputs": [
    {
     "name": "stdout",
     "output_type": "stream",
     "text": [
      "Saving figure to file figs/chap09-fig01.pdf\n"
     ]
    },
    {
     "data": {
      "image/png": "[encoded data removed]",
      "text/plain": [
       "<Figure size 432x288 with 1 Axes>"
      ]
     },
     "metadata": {},
     "output_type": "display_data"
    }
   ],
   "source": [
    "def plot_position(results):\n",
    "    plot(results.D, label='D')\n",
    "    decorate(xlabel='Time (days)',\n",
    "             ylabel='Distance (m)')\n",
    "\n",
    "plot_position(results)\n",
    "savefig('figs/chap09-fig01.pdf')"
   ]
  },
  {
   "cell_type": "code",
   "execution_count": 274,
   "metadata": {},
   "outputs": [],
   "source": [
    "def event_func(state, t, system):\n",
    "    \"\"\"Return the height of the penny above the sidewalk.\n",
    "    \"\"\"\n",
    "    D, v = state\n",
    "    return D"
   ]
  },
  {
   "cell_type": "code",
   "execution_count": 275,
   "metadata": {},
   "outputs": [
    {
     "data": {
      "text/html": [
       "<div>\n",
       "<style scoped>\n",
       "    .dataframe tbody tr th:only-of-type {\n",
       "        vertical-align: middle;\n",
       "    }\n",
       "\n",
       "    .dataframe tbody tr th {\n",
       "        vertical-align: top;\n",
       "    }\n",
       "\n",
       "    .dataframe thead th {\n",
       "        text-align: right;\n",
       "    }\n",
       "</style>\n",
       "<table border=\"1\" class=\"dataframe\">\n",
       "  <thead>\n",
       "    <tr style=\"text-align: right;\">\n",
       "      <th></th>\n",
       "      <th>values</th>\n",
       "    </tr>\n",
       "  </thead>\n",
       "  <tbody>\n",
       "    <tr>\n",
       "      <th>sol</th>\n",
       "      <td>None</td>\n",
       "    </tr>\n",
       "    <tr>\n",
       "      <th>t_events</th>\n",
       "      <td>[[]]</td>\n",
       "    </tr>\n",
       "    <tr>\n",
       "      <th>nfev</th>\n",
       "      <td>704</td>\n",
       "    </tr>\n",
       "    <tr>\n",
       "      <th>njev</th>\n",
       "      <td>0</td>\n",
       "    </tr>\n",
       "    <tr>\n",
       "      <th>nlu</th>\n",
       "      <td>0</td>\n",
       "    </tr>\n",
       "    <tr>\n",
       "      <th>status</th>\n",
       "      <td>-1</td>\n",
       "    </tr>\n",
       "    <tr>\n",
       "      <th>message</th>\n",
       "      <td>Required step size is less than spacing betwee...</td>\n",
       "    </tr>\n",
       "    <tr>\n",
       "      <th>success</th>\n",
       "      <td>False</td>\n",
       "    </tr>\n",
       "  </tbody>\n",
       "</table>\n",
       "</div>"
      ],
      "text/plain": [
       "sol                                                      None\n",
       "t_events                                                 [[]]\n",
       "nfev                                                      704\n",
       "njev                                                        0\n",
       "nlu                                                         0\n",
       "status                                                     -1\n",
       "message     Required step size is less than spacing betwee...\n",
       "success                                                 False\n",
       "dtype: object"
      ]
     },
     "execution_count": 275,
     "metadata": {},
     "output_type": "execute_result"
    }
   ],
   "source": [
    "results, details = run_ode_solver(system, slope_func, events=event_func)\n",
    "details"
   ]
  },
  {
   "cell_type": "code",
   "execution_count": 277,
   "metadata": {},
   "outputs": [
    {
     "data": {
      "text/plain": [
       "5546335.6065974645"
      ]
     },
     "execution_count": 277,
     "metadata": {},
     "output_type": "execute_result"
    }
   ],
   "source": [
    "t_colision = get_last_label(results)"
   ]
  },
  {
   "cell_type": "code",
   "execution_count": null,
   "metadata": {},
   "outputs": [],
   "source": []
  },
  {
   "cell_type": "code",
   "execution_count": 154,
   "metadata": {},
   "outputs": [],
   "source": [
    "# Solution goes here"
   ]
  },
  {
   "cell_type": "code",
   "execution_count": 34,
   "metadata": {},
   "outputs": [],
   "source": [
    "# Solution goes here"
   ]
  },
  {
   "cell_type": "code",
   "execution_count": 35,
   "metadata": {},
   "outputs": [],
   "source": [
    "# Solution goes here"
   ]
  },
  {
   "cell_type": "code",
   "execution_count": 36,
   "metadata": {},
   "outputs": [],
   "source": [
    "# Solution goes here"
   ]
  },
  {
   "cell_type": "code",
   "execution_count": 37,
   "metadata": {},
   "outputs": [],
   "source": [
    "# Solution goes here"
   ]
  },
  {
   "cell_type": "code",
   "execution_count": 38,
   "metadata": {},
   "outputs": [],
   "source": [
    "# Solution goes here"
   ]
  },
  {
   "cell_type": "code",
   "execution_count": null,
   "metadata": {},
   "outputs": [],
   "source": []
  }
 ],
 "metadata": {
  "kernelspec": {
   "display_name": "Python 3",
   "language": "python",
   "name": "python3"
  },
  "language_info": {
   "codemirror_mode": {
    "name": "ipython",
    "version": 3
   },
   "file_extension": ".py",
   "mimetype": "text/x-python",
   "name": "python",
   "nbconvert_exporter": "python",
   "pygments_lexer": "ipython3",
   "version": "3.6.5"
  }
 },
 "nbformat": 4,
 "nbformat_minor": 2
}
