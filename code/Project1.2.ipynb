{
 "cells": [
  {
   "cell_type": "markdown",
   "metadata": {},
   "source": [
    "ModSim project 1"
   ]
  },
  {
   "cell_type": "code",
   "execution_count": 3,
   "metadata": {},
   "outputs": [],
   "source": [
    "# Configure Jupyter so figures appear in the notebook\n",
    "%matplotlib inline\n",
    "\n",
    "# Configure Jupyter to display the assigned value after an assignment\n",
    "%config InteractiveShell.ast_node_interactivity='last_expr_or_assign'\n",
    "\n",
    "# import functions from the modsim.py module\n",
    "from modsim import *\n",
    "\n",
    "from pandas import read_csv\n",
    "from math import exp"
   ]
  },
  {
   "cell_type": "code",
   "execution_count": 4,
   "metadata": {},
   "outputs": [],
   "source": [
    "table = read_csv('data.csv',index_col=0);"
   ]
  },
  {
   "cell_type": "code",
   "execution_count": 5,
   "metadata": {},
   "outputs": [
    {
     "data": {
      "image/png": "[encoded data removed]",
      "text/plain": [
       "<Figure size 432x288 with 1 Axes>"
      ]
     },
     "metadata": {},
     "output_type": "display_data"
    }
   ],
   "source": [
    "\n",
    "plot(table.Population,':', label='Bee Population')\n",
    "decorate(xlabel='Year', \n",
    "             ylabel='Bee population (Million)',\n",
    "             title='Bee population over time')"
   ]
  },
  {
   "cell_type": "code",
   "execution_count": 6,
   "metadata": {},
   "outputs": [
    {
     "data": {
      "text/plain": [
       "Year\n",
       "1943    4.90\n",
       "1944    5.20\n",
       "1945    5.50\n",
       "1946    5.80\n",
       "1947    5.90\n",
       "1948    5.75\n",
       "1949    5.60\n",
       "1950    5.63\n",
       "1951    5.59\n",
       "1952    5.55\n",
       "1953    5.58\n",
       "1954    5.52\n",
       "1955    5.25\n",
       "1956    5.18\n",
       "1957    5.20\n",
       "1958    5.15\n",
       "1959    5.10\n",
       "1960    5.00\n",
       "1961    4.99\n",
       "1962    4.90\n",
       "1963    4.80\n",
       "1964    4.80\n",
       "1965    4.70\n",
       "1966    4.60\n",
       "1967    4.60\n",
       "1968    4.50\n",
       "1969    4.40\n",
       "1970    4.25\n",
       "1971    4.10\n",
       "1972    4.05\n",
       "        ... \n",
       "1979    4.15\n",
       "1980    4.05\n",
       "1981    4.18\n",
       "1982     NaN\n",
       "1983     NaN\n",
       "1984     NaN\n",
       "1985     NaN\n",
       "1986    3.20\n",
       "1987    3.25\n",
       "1988    3.30\n",
       "1989    3.50\n",
       "1990    3.18\n",
       "1991    3.10\n",
       "1992    3.00\n",
       "1993    2.80\n",
       "1994    2.70\n",
       "1995    2.60\n",
       "1996    2.50\n",
       "1997    2.59\n",
       "1998    2.60\n",
       "1999    2.61\n",
       "2000    2.59\n",
       "2001    2.49\n",
       "2002    2.50\n",
       "2003    2.60\n",
       "2004    2.50\n",
       "2005    2.35\n",
       "2006    2.50\n",
       "2007    2.40\n",
       "2008    2.20\n",
       "Name: Population, Length: 66, dtype: float64"
      ]
     },
     "execution_count": 6,
     "metadata": {},
     "output_type": "execute_result"
    }
   ],
   "source": [
    "population = table.Population"
   ]
  },
  {
   "cell_type": "code",
   "execution_count": 160,
   "metadata": {},
   "outputs": [],
   "source": [
    "t_0 = 1947;\n",
    "t_end = get_last_label(population);\n",
    "p_0 = population[1947];\n",
    "system = System(t_0=t_0, t_end=t_end, p_0=p_0, alpha = -0.01);"
   ]
  },
  {
   "cell_type": "code",
   "execution_count": 161,
   "metadata": {},
   "outputs": [],
   "source": [
    "def update_func2(pop, t, system):\n",
    "    \"\"\"Compute the population next year.\n",
    "    \n",
    "    pop: current population\n",
    "    t: current year\n",
    "    system: system object containing parameters of the model\n",
    "    \n",
    "    returns: population next year\n",
    "    \"\"\"\n",
    "    net_growth = system.alpha  * pop\n",
    "    return pop + net_growth\n"
   ]
  },
  {
   "cell_type": "code",
   "execution_count": 162,
   "metadata": {},
   "outputs": [],
   "source": [
    "def run_simulation(system, update_func):\n",
    "    \"\"\"Simulate the system using any update function.\n",
    "    \n",
    "    system: System object\n",
    "    update_func: function that computes the population next year\n",
    "    \n",
    "    returns: TimeSeries\n",
    "    \"\"\"\n",
    "    results = TimeSeries()\n",
    "    results[system.t_0] = system.p_0\n",
    "    \n",
    "    for t in linrange(system.t_0, system.t_end):\n",
    "        results[t+1] = update_func(results[t], t, system)\n",
    "        \n",
    "    return results"
   ]
  },
  {
   "cell_type": "code",
   "execution_count": 163,
   "metadata": {},
   "outputs": [],
   "source": [
    "def plot_results(population, timeseries, title):\n",
    "    \"\"\"Plot the estimates and the model.\n",
    "    \n",
    "    census: TimeSeries of population estimates\n",
    "    un: TimeSeries of population estimates\n",
    "    timeseries: TimeSeries of simulation results\n",
    "    title: string\n",
    "    \"\"\"\n",
    "   \n",
    "    plot(timeseries, color='gray', label='model')\n",
    "    \n",
    "    plot(population,':', label='Bee Population')\n",
    "    decorate(xlabel='Year', \n",
    "             ylabel='Bee population (Million)',\n",
    "             title='Bee population over time')"
   ]
  },
  {
   "cell_type": "code",
   "execution_count": 164,
   "metadata": {},
   "outputs": [
    {
     "data": {
      "image/png": "[encoded data removed]",
      "text/plain": [
       "<Figure size 432x288 with 1 Axes>"
      ]
     },
     "metadata": {},
     "output_type": "display_data"
    }
   ],
   "source": [
    "results = run_simulation(system, update_func2)\n",
    "plot_results(population, results, 'Quadratic model')"
   ]
  },
  {
   "cell_type": "markdown",
   "metadata": {},
   "source": [
    "Will bees go exticnt in the US?\n",
    "\n",
    "Since 1947 the number of Honey Bees colonies have been decreasing. One of the posible reasons for this sudden decline could be the increased use of insecticides in agrigulture. Honey Bees are a main natural pollinator that farmers acknowledge as good, but are inadvertly the subjects of the toxic insecticides."
   ]
  },
  {
   "cell_type": "markdown",
   "metadata": {},
   "source": [
    "To explore this question we will develop a quadratic model that predicts the number of Honey Bee colonies in the United States."
   ]
  },
  {
   "cell_type": "markdown",
   "metadata": {},
   "source": [
    "Specifically, we will add one new feature to the model\n",
    "1. Insecticide Usage: The current model doesn't account for the change in insectide usage. We will use this feature to more accurately predict the number of bee colonies."
   ]
  },
  {
   "cell_type": "markdown",
   "metadata": {},
   "source": [
    "We will begin our model with the data from 1947, which is when the number of colonies began to decrease."
   ]
  },
  {
   "cell_type": "code",
   "execution_count": null,
   "metadata": {},
   "outputs": [],
   "source": []
  }
 ],
 "metadata": {
  "kernelspec": {
   "display_name": "Python 3",
   "language": "python",
   "name": "python3"
  },
  "language_info": {
   "codemirror_mode": {
    "name": "ipython",
    "version": 3
   },
   "file_extension": ".py",
   "mimetype": "text/x-python",
   "name": "python",
   "nbconvert_exporter": "python",
   "pygments_lexer": "ipython3",
   "version": "3.6.5"
  }
 },
 "nbformat": 4,
 "nbformat_minor": 2
}
