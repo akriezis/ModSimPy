{
 "cells": [
  {
   "cell_type": "code",
   "execution_count": 1,
   "metadata": {},
   "outputs": [],
   "source": [
    "# Configure Jupyter so figures appear in the notebook\n",
    "%matplotlib inline\n",
    "\n",
    "# Configure Jupyter to display the assigned value after an assignment\n",
    "%config InteractiveShell.ast_node_interactivity='last_expr_or_assign'\n",
    "\n",
    "# import functions from the modsim.py module\n",
    "from modsim import *"
   ]
  },
  {
   "cell_type": "code",
   "execution_count": 2,
   "metadata": {},
   "outputs": [],
   "source": [
    "def make_system(Γ, τ, μ, β, α, δ, σ, π, ρ):\n",
    "    init = State(R=1000 , V=100 , E=0 , L=0 )\n",
    "    \n",
    "    t0 = 0\n",
    "    t_end =120\n",
    "    \n",
    "    return System(init, t0, t_end, Γ=Γ, τ=τ, μ=μ, β=β, α=α, δ=δ, σ=σ, π=π, ρ=ρ)"
   ]
  },
  {
   "cell_type": "code",
   "execution_count": 7,
   "metadata": {},
   "outputs": [],
   "source": [
    "def upd_func1(state,t, system):\n",
    "    unpack(system)\n",
    "    r, v, e, l = state\n",
    "    \n",
    "    r += (Γ*τ - μ*r - β*r*v)\n",
    "    return State(R=r, V=v, E=e, L=l)"
   ]
  },
  {
   "cell_type": "code",
   "execution_count": 8,
   "metadata": {},
   "outputs": [],
   "source": [
    "def upd_func2(state,t, system):\n",
    "    unpack(system)\n",
    "    r, v, e, l = state\n",
    "    \n",
    "    l += (ρ*β*r*v -μ*l -α*l)\n",
    "    return State(R=r, V=v, E=e, L=l)"
   ]
  },
  {
   "cell_type": "code",
   "execution_count": null,
   "metadata": {},
   "outputs": [],
   "source": [
    "def upd_func3(state,t, system):\n",
    "    unpack(system)\n",
    "    r, v, e, l = state\n",
    "    \n",
    "    e += (1-ρ)*β*r*v+α*l-δ*e\n",
    "    return State(R=r, V=v, E=e, L=l)"
   ]
  },
  {
   "cell_type": "code",
   "execution_count": null,
   "metadata": {},
   "outputs": [],
   "source": [
    "def upd_func4(state,t, system):\n",
    "    unpack(system)\n",
    "    r, v, e, l = state\n",
    "    \n",
    "    v += π*e - σ*v\n",
    "    return State(R=r, V=v, E=e, L=l)"
   ]
  },
  {
   "cell_type": "code",
   "execution_count": 9,
   "metadata": {},
   "outputs": [],
   "source": [
    "def upd_func(state,t, system):\n",
    "    unpack(system)\n",
    "    r, v, e, l = state\n",
    "    \n",
    "    r += (Γ*τ - μ*r - β*r*v)\n",
    "    \n",
    "    l += (ρ*β*r*v -μ*l -α*l)\n",
    "    \n",
    "    e += (1-ρ)*β*r*v+α*l-δ*e\n",
    "    \n",
    "    v += π*e - σ*v\n",
    "     \n",
    "    return State(R=r, V=v, E=e, L=l)"
   ]
  },
  {
   "cell_type": "code",
   "execution_count": null,
   "metadata": {},
   "outputs": [],
   "source": []
  }
 ],
 "metadata": {
  "kernelspec": {
   "display_name": "Python 3",
   "language": "python",
   "name": "python3"
  },
  "language_info": {
   "codemirror_mode": {
    "name": "ipython",
    "version": 3
   },
   "file_extension": ".py",
   "mimetype": "text/x-python",
   "name": "python",
   "nbconvert_exporter": "python",
   "pygments_lexer": "ipython3",
   "version": "3.6.5"
  }
 },
 "nbformat": 4,
 "nbformat_minor": 2
}
